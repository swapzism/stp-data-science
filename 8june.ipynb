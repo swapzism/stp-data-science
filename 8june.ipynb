{
 "cells": [
  {
   "cell_type": "code",
   "execution_count": 14,
   "id": "53ca2c92-3c32-47cf-bc1f-9d661e5fbdd6",
   "metadata": {},
   "outputs": [
    {
     "name": "stdout",
     "output_type": "stream",  
     "text": [
      "Hello World!\n"
     ]
    }
   ],
   "source": [
    "print(\"Hello World!\")"
   ]
  },
  {
   "cell_type": "code",
   "execution_count": 18,
   "id": "f590a25e-72c8-4125-b6ac-f88ce1f1a56a",
   "metadata": {},
   "outputs": [
    {
     "name": "stdout",
     "output_type": "stream",
     "text": [
      "21\n"
     ]
    }
   ],
   "source": [
    "x=10\n",
    "y=11\n",
    "print(x+y)"
   ]
  },
  {
   "cell_type": "code",
   "execution_count": 24,
   "id": "744e9b5d-3ac6-4063-b487-6604d6b1fbb3",
   "metadata": {},
   "outputs": [
    {
     "name": "stdout",
     "output_type": "stream",
     "text": [
      "Cipher+Schools\n"
     ]
    }
   ],
   "source": [
    "x=\"Cipher\"\n",
    "y=\"Schools\"\n",
    "\n",
    "print(x+\"+\"+y)"
   ]
  },
  {
   "cell_type": "code",
   "execution_count": 48,
   "id": "35703c84-123b-4c26-94a6-2d4dcbaf61c4",
   "metadata": {},
   "outputs": [
    {
     "name": "stdout",
     "output_type": "stream",
     "text": [
      "2\n"
     ]
    }
   ],
   "source": [
    "x='3' # x=\"3\"  In python single and double quotes both denotes string values\n",
    "X=2\n",
    "\n",
    "print(X)"
   ]
  },
  {
   "cell_type": "raw",
   "id": "24b1aad5-35ff-4762-a4e0-8fb071e2f7b4",
   "metadata": {},
   "source": [
    "Rules of naming a variable in Python\n",
    "\n",
    "- Variable name must start with a letter or a underscore\n",
    "- Variable name cannot start with a number\n",
    "- Variable name can only contain alphanumeric values (A-Z, a-z, 0-9, _)\n",
    "- Variable names are case sensitive in python\n",
    "- Variable name cannot be any python keyword\n",
    "\n",
    "\n",
    "\n",
    "Camel Case\n",
    "\n",
    "totalNumberOfViews = 100\n",
    "\n",
    "Pascal Case\n",
    "\n",
    "TotalNumberOfViews = 100\n",
    "\n",
    "Snake Case\n",
    "\n",
    "total_number_of_views = 100\n"
   ]
  },
  {
   "cell_type": "code",
   "execution_count": 1,
   "id": "53d428c0-f079-48f0-a336-eb5ab821722e",
   "metadata": {},
   "outputs": [
    {
     "name": "stdout",
     "output_type": "stream",
     "text": [
      "3\n",
      "3\n",
      "3\n",
      "6\n",
      "6\n"
     ]
    }
   ],
   "source": [
    "x= y= z = 3\n",
    "\n",
    "print(x)\n",
    "print(y)\n",
    "print(z)\n",
    "print(x+y)\n",
    "print(y+z)"
   ]
  },
  {
   "cell_type": "code",
   "execution_count": 2,
   "id": "b359b772-ed1f-4ba8-927d-82f3e85e05ad",
   "metadata": {},
   "outputs": [
    {
     "name": "stdout",
     "output_type": "stream",
     "text": [
      "2\n",
      "3\n",
      "4\n"
     ]
    }
   ],
   "source": [
    "x, y , z = 2, 3, 4\n",
    "\n",
    "print(x)\n",
    "print(y)\n",
    "print(z)"
   ]
  },
  {
   "cell_type": "raw",
   "id": "ae27accd-a72e-4d9a-8ef0-82a4d791240d",
   "metadata": {},
   "source": [
    "PYTHON DATA TYPES:-\n",
    "\n",
    "\n",
    "Text/String - str\n",
    "\n",
    "Numeric - int, float, complex\n",
    "\n",
    "Sequence - list, tuple, range\n",
    "\n",
    "Mapping - dict \n",
    "\n",
    "set, bool, bytes, bytearray\n",
    "\n"
   ]
  },
  {
   "cell_type": "code",
   "execution_count": 3,
   "id": "b42ca158-6be4-4887-8869-06f314cdac0d",
   "metadata": {},
   "outputs": [
    {
     "name": "stdout",
     "output_type": "stream",
     "text": [
      "<class 'str'>\n"
     ]
    }
   ],
   "source": [
    "x=\"Hello World!\"\n",
    "print(type(x))"
   ]
  },
  {
   "cell_type": "code",
   "execution_count": 4,
   "id": "4918097c-7551-42f4-bc26-c8b00c0d1367",
   "metadata": {},
   "outputs": [
    {
     "name": "stdout",
     "output_type": "stream",
     "text": [
      "20j\n",
      "<class 'complex'>\n"
     ]
    }
   ],
   "source": [
    "x=20j\n",
    "print(x)\n",
    "print(type(x))"
   ]
  },
  {
   "cell_type": "code",
   "execution_count": 5,
   "id": "afd47d76-883a-46ec-8149-cb25e3c7fb9d",
   "metadata": {},
   "outputs": [
    {
     "name": "stdout",
     "output_type": "stream",
     "text": [
      "['1', '2', '3']\n",
      "<class 'list'>\n"
     ]
    }
   ],
   "source": [
    "x = [\"1\", \"2\", \"3\" ]\n",
    "print(x)\n",
    "print(type(x))"
   ]
  },
  {
   "cell_type": "code",
   "execution_count": 6,
   "id": "8668eb9a-118a-4c70-a82b-cd1069bea09c",
   "metadata": {},
   "outputs": [
    {
     "name": "stdout",
     "output_type": "stream",
     "text": [
      "('1', '2', '3')\n",
      "<class 'tuple'>\n"
     ]
    }
   ],
   "source": [
    "x = (\"1\", \"2\", \"3\")\n",
    "print(x)\n",
    "print(type(x))"
   ]
  },
  {
   "cell_type": "code",
   "execution_count": 7,
   "id": "11baec36-6e1d-434b-9030-efa5c8bb3ce2",
   "metadata": {},
   "outputs": [
    {
     "name": "stdout",
     "output_type": "stream",
     "text": [
      "range(0, 10)\n",
      "<class 'range'>\n"
     ]
    }
   ],
   "source": [
    "x = range(10)\n",
    "print(x)\n",
    "print(type(x))"
   ]
  },
  {
   "cell_type": "code",
   "execution_count": 8,
   "id": "2d0a3330-def0-4660-a6de-c8ca4e2f3315",
   "metadata": {},
   "outputs": [
    {
     "name": "stdout",
     "output_type": "stream",
     "text": [
      "<class 'dict'>\n"
     ]
    }
   ],
   "source": [
    "x = {\"name\": \"Cipher Schools\", \"batch\": \"Data Science Batch\"}\n",
    "print(type(x))"
   ]
  },
  {
   "cell_type": "code",
   "execution_count": 9,
   "id": "ea03f017-dce7-4a1b-b3a3-87c7947460c4",
   "metadata": {},
   "outputs": [
    {
     "name": "stdout",
     "output_type": "stream",
     "text": [
      "<class 'bool'>\n"
     ]
    }
   ],
   "source": [
    "x = True\n",
    "print(type(x))"
   ]
  },
  {
   "cell_type": "code",
   "execution_count": 10,
   "id": "0e20c0c3-1359-4b96-b42a-7fb4635cf9cb",
   "metadata": {},
   "outputs": [
    {
     "name": "stdout",
     "output_type": "stream",
     "text": [
      "swapnil,Narayan\n"
     ]
    }
   ],
   "source": [
    "name = \"Swapnil,Narayan\"\n",
    "print(name.replace('S','s'))"
   ]
  },
  {
   "cell_type": "code",
   "execution_count": 11,
   "id": "94427510-318e-4e80-b725-0e08b26f4051",
   "metadata": {},
   "outputs": [
    {
     "name": "stdout",
     "output_type": "stream",
     "text": [
      "['Cipher', 'Schools']\n"
     ]
    }
   ],
   "source": [
    "name = \"Cipher,Schools\"\n",
    "print(name.split(','))"
   ]
  },
  {
   "cell_type": "raw",
   "id": "eefafeda-c9af-4080-ba00-fd37e7dc3dfc",
   "metadata": {},
   "source": [
    "Arrays => Sequential of data \n",
    "\n",
    "Strings are array of characters"
   ]
  }
 ],
 "metadata": {
  "kernelspec": {
   "display_name": "Python 3 (ipykernel)",
   "language": "python",
   "name": "python3"
  },
  "language_info": {
   "codemirror_mode": {
    "name": "ipython",
    "version": 3
   },
   "file_extension": ".py",
   "mimetype": "text/x-python",
   "name": "python",
   "nbconvert_exporter": "python",
   "pygments_lexer": "ipython3",
   "version": "3.11.7"
  }
 },
 "nbformat": 4,
 "nbformat_minor": 5
}

.

