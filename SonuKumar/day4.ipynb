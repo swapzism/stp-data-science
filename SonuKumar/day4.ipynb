{
 "cells": [
  {
   "cell_type": "code",
   "execution_count": 21,
   "id": "c5299437-76e9-4010-b9e8-af28db543561",
   "metadata": {},
   "outputs": [
    {
     "name": "stdout",
     "output_type": "stream",
     "text": [
      "Hello \n",
      "how are \n",
      "you\n",
      "\n",
      "['Hello', '\\nhow', 'are', '\\nyou\\n']\n"
     ]
    }
   ],
   "source": [
    "a=\"\"\"Hello \n",
    "how are \n",
    "you\n",
    "\"\"\"\n",
    "print(a)   #multiline string\n",
    "print(a.split(\" \"))"
   ]
  },
  {
   "cell_type": "code",
   "execution_count": 29,
   "id": "b491b26d-feba-45e8-be46-8a8bcc1b1818",
   "metadata": {},
   "outputs": [
    {
     "name": "stdout",
     "output_type": "stream",
     "text": [
      "True\n",
      "False\n"
     ]
    }
   ],
   "source": [
    "#in and not in \n",
    "\n",
    "a=\"this is python programing\"\n",
    "print(\"this\" in a)\n",
    "print(\"this\" not in a)"
   ]
  },
  {
   "cell_type": "code",
   "execution_count": null,
   "id": "81bff7dc-ac61-419c-a8ff-72035165dd32",
   "metadata": {},
   "outputs": [],
   "source": [
    "#x[-5:-2]=x[length-5:len-2]"
   ]
  },
  {
   "cell_type": "code",
   "execution_count": 31,
   "id": "731e7d56-ac83-481b-8340-a5d5b67655c6",
   "metadata": {},
   "outputs": [
    {
     "name": "stdout",
     "output_type": "stream",
     "text": [
      "CIPHER SCHOOLS\n",
      "cipher schools\n",
      "Cipher schools\n",
      "['Cipher', 'Schools']\n"
     ]
    }
   ],
   "source": [
    "x=\"Cipher Schools\"\n",
    "print(x.upper())\n",
    "print(x.lower())\n",
    "print(x.replace('S','s'))\n",
    "print(x.split(\" \"))"
   ]
  },
  {
   "cell_type": "code",
   "execution_count": 33,
   "id": "d85d59ef-6ba5-477b-8427-cae520d06322",
   "metadata": {},
   "outputs": [
    {
     "name": "stdout",
     "output_type": "stream",
     "text": [
      "CipherSchools\n",
      "Cipher and Schools\n"
     ]
    }
   ],
   "source": [
    "#concatenation\n",
    "\n",
    "x=\"Cipher\"\n",
    "y=\"Schools\"\n",
    "print(x+y)\n",
    "print(x+\" and \"+y)"
   ]
  },
  {
   "cell_type": "code",
   "execution_count": 35,
   "id": "2b619024-a886-414e-98fb-c7ceb7d3cddf",
   "metadata": {},
   "outputs": [
    {
     "name": "stdout",
     "output_type": "stream",
     "text": [
      "I have 98 in math\n"
     ]
    }
   ],
   "source": [
    "#Formating in string\n",
    "score=98\n",
    "subject=\"math\"\n",
    "x=f\"I have {score} in {subject}\"\n",
    "print(x)"
   ]
  },
  {
   "cell_type": "code",
   "execution_count": 39,
   "id": "ff29e621-e168-40f6-8988-65f38711b6b3",
   "metadata": {},
   "outputs": [
    {
     "name": "stdout",
     "output_type": "stream",
     "text": [
      "I have 98.898 in math\n"
     ]
    }
   ],
   "source": [
    "score=98.898\n",
    "subject=\"math\"\n",
    "x=f\"I have {score} in {subject}\"\n",
    "print(x)"
   ]
  },
  {
   "cell_type": "code",
   "execution_count": 51,
   "id": "e3e20ede-d9a7-440b-a072-c277d19b2fd6",
   "metadata": {},
   "outputs": [
    {
     "name": "stdout",
     "output_type": "stream",
     "text": [
      "Mr Swapnil said \"Hey I am the prof\" \n",
      " I want to use this character \\\n"
     ]
    }
   ],
   "source": [
    "#Escape Characters\n",
    "x=\"Mr Swapnil said \\\"Hey I am the prof\\\"\"\n",
    "y=\"I want to use this character \\\\\"\n",
    "print(x,\"\\n\",y)"
   ]
  },
  {
   "cell_type": "markdown",
   "id": "318f9566-2d09-4d82-a4ef-d387465de9e8",
   "metadata": {},
   "source": [
    "Escape Characters\n",
    "\\'\n",
    "\\\\\n",
    "\\n\n",
    "\\t\n",
    "\\f\n",
    "\\p"
   ]
  },
  {
   "cell_type": "code",
   "execution_count": 59,
   "id": "e03533e1-779c-476a-8ead-e406034b9ddd",
   "metadata": {},
   "outputs": [
    {
     "name": "stdout",
     "output_type": "stream",
     "text": [
      "Sonu\n"
     ]
    }
   ],
   "source": [
    "print(\"sonu\".capitalize())"
   ]
  },
  {
   "cell_type": "markdown",
   "id": "0551a91a-188e-4cf9-b8b5-6d88caf52c0b",
   "metadata": {},
   "source": [
    "Booleans in python\n",
    "-TRUE\n",
    "-FALSE"
   ]
  },
  {
   "cell_type": "code",
   "execution_count": 61,
   "id": "05d2d024-c6e1-433a-a774-1f1d01376589",
   "metadata": {},
   "outputs": [
    {
     "name": "stdout",
     "output_type": "stream",
     "text": [
      "True\n",
      "True\n",
      "True\n",
      "False\n",
      "False\n",
      "False\n"
     ]
    }
   ],
   "source": [
    "x=10\n",
    "print(4<9)\n",
    "print(x==10)\n",
    "print(bool(\"Hello\"))\n",
    "print(bool(0))\n",
    "print(bool([]))\n",
    "print(bool(\"\"))"
   ]
  },
  {
   "cell_type": "markdown",
   "id": "a776cf84-39db-498e-877b-63b850aa298a",
   "metadata": {},
   "source": [
    "OPERATORS IN PYTHON\n",
    "Arithmetic Operators\n",
    "Assignment Operators\n",
    "Comparison Operators\n",
    "Logical Operators ( and or not )\n",
    "Membership Operators ( in not in)\n",
    "Identity Operators ( is is not)"
   ]
  },
  {
   "cell_type": "code",
   "execution_count": 65,
   "id": "19c16721-8b96-4f83-9062-25a0aaebb148",
   "metadata": {},
   "outputs": [
    {
     "name": "stdout",
     "output_type": "stream",
     "text": [
      "True\n",
      "False\n"
     ]
    }
   ],
   "source": [
    "x=10\n",
    "y=10\n",
    "print(x is y)\n",
    "print(x is not y)"
   ]
  },
  {
   "cell_type": "markdown",
   "id": "a7a32d73-8307-4524-b4d1-63259fccd68c",
   "metadata": {},
   "source": [
    "List in python\n",
    "store group data"
   ]
  },
  {
   "cell_type": "code",
   "execution_count": 85,
   "id": "af08c30e-1862-4aa1-acd9-cc74935868cc",
   "metadata": {},
   "outputs": [
    {
     "name": "stdout",
     "output_type": "stream",
     "text": [
      "['a', 'b', 'c', 2]\n",
      "4\n",
      "<class 'list'>\n",
      "['c', 2]\n",
      "['a', 'b', 'c', 2]\n",
      "['c']\n",
      "[]\n",
      "[2, 'c', 'b', 'a']\n"
     ]
    }
   ],
   "source": [
    "x=[\"a\",\"b\",\"c\",2]\n",
    "print(x)\n",
    "print(len(x))\n",
    "print(type(x))\n",
    "print(x[2:])\n",
    "print(x[:4])\n",
    "print(x[2:3])\n",
    "print(x[-1:-3])\n",
    "print(x[::-1])"
   ]
  },
  {
   "cell_type": "code",
   "execution_count": 75,
   "id": "94b3af16-8eee-4e77-8a5a-5a6b78d26b99",
   "metadata": {},
   "outputs": [
    {
     "name": "stdout",
     "output_type": "stream",
     "text": [
      "3\n",
      "3\n"
     ]
    }
   ],
   "source": [
    "#:= is a walrus operator and is the assignment operator\n",
    "print(x:=3)# also return the value\n",
    "print(x)"
   ]
  },
  {
   "cell_type": "code",
   "execution_count": 101,
   "id": "cd9fdf79-5608-4b04-9087-1226941a2a90",
   "metadata": {},
   "outputs": [
    {
     "name": "stdout",
     "output_type": "stream",
     "text": [
      "[1, 2, 3, 4, 5, 6, 7, 8]\n",
      "[1, 7, 2, 3, 4, 5, 6, 7, 8, 5]\n",
      "[1, 7, 2, 3, 4, 6, 7, 8, 5]\n",
      "[1, 7, 2, 3, 4, 7, 8, 5]\n",
      "[]\n"
     ]
    }
   ],
   "source": [
    "x=[1,2,3,4]\n",
    "y=[5,6,7,8]\n",
    "x.extend(y)  #add the list at the end of the first list\n",
    "print(x)\n",
    "x.append(5) #add at the end\n",
    "x.insert(1,7)\n",
    "print(x)\n",
    "\n",
    "x.remove(5)\n",
    "print(x)\n",
    "x.pop(5)  #pop(index)\n",
    "print(x)\n",
    "\n",
    "x.clear();\n",
    "print(x)\n",
    "del x #to remove list"
   ]
  },
  {
   "cell_type": "code",
   "execution_count": null,
   "id": "2a8ae8d6-74ca-4d60-9d6e-2f48e623f420",
   "metadata": {},
   "outputs": [],
   "source": []
  }
 ],
 "metadata": {
  "kernelspec": {
   "display_name": "Python 3 (ipykernel)",
   "language": "python",
   "name": "python3"
  },
  "language_info": {
   "codemirror_mode": {
    "name": "ipython",
    "version": 3
   },
   "file_extension": ".py",
   "mimetype": "text/x-python",
   "name": "python",
   "nbconvert_exporter": "python",
   "pygments_lexer": "ipython3",
   "version": "3.11.7"
  }
 },
 "nbformat": 4,
 "nbformat_minor": 5
}
